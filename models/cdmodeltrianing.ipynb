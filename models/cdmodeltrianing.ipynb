{
 "cells": [
  {
   "cell_type": "markdown",
   "metadata": {},
   "source": [
    "Contos Bank digital transformation\n",
    "Import libraries and pacakges"
   ]
  },
  {
   "cell_type": "code",
   "execution_count": null,
   "metadata": {},
   "outputs": [],
   "source": [
    "pip show azure-ai-ml"
   ]
  },
  {
   "cell_type": "code",
   "execution_count": null,
   "metadata": {},
   "outputs": [],
   "source": [
    "import azureml.core\n",
    "from azureml.core import Workspace\n",
    "\n",
    "# Load the workspace from the saved config file\n",
    "ws = Workspace.from_config()\n",
    "print('Ready to use Azure ML {} to work with {}'.format(azureml.core.VERSION, ws.name))"
   ]
  },
  {
   "cell_type": "code",
   "execution_count": null,
   "metadata": {},
   "outputs": [],
   "source": [
    "# Importing Libraries\n",
    "%matplotlib inline \n",
    "import numpy as np\n",
    "import pandas as pd\n",
    "import sklearn\n",
    "from sklearn.model_selection import train_test_split\n",
    "from sklearn.linear_model import LogisticRegression\n",
    "from scipy.stats import zscore\n",
    "import seaborn as sns\n",
    "import matplotlib.pyplot as plt\n",
    "from sklearn.neighbors import KNeighborsClassifier\n",
    "from sklearn.metrics import precision_score, f1_score\n",
    "from sklearn.metrics import accuracy_score\n",
    "from sklearn.metrics import recall_score\n",
    "from sklearn.metrics import confusion_matrix, classification_report\n",
    "from sklearn.utils import resample\n",
    "from sklearn.naive_bayes import GaussianNB\n",
    "from sklearn.linear_model import *\n",
    "from sklearn.neighbors import KNeighborsClassifier\n",
    "from sklearn.svm import SVC, LinearSVC\n",
    "from sklearn.naive_bayes import MultinomialNB"
   ]
  },
  {
   "cell_type": "code",
   "execution_count": null,
   "metadata": {},
   "outputs": [],
   "source": [
    "# used to supress display of warnings\n",
    "import warnings\n",
    "# suppress display of warnings\n",
    "warnings.filterwarnings('ignore')"
   ]
  },
  {
   "cell_type": "code",
   "execution_count": null,
   "metadata": {},
   "outputs": [],
   "source": [
    "#import the dataset library\n",
    "from azureml.core import Dataset\n",
    "\n",
    "#Read Datasets from registered Datasets\n",
    "part1 = Dataset.get_by_name(ws, name='Dataset1')\n",
    "part1=part1.to_pandas_dataframe()\n",
    "part2 = Dataset.get_by_name(ws, name='Dataset2')\n",
    "part2=part2.to_pandas_dataframe()\n",
    "\n",
    "#Remove duplicates from the datasets\n",
    "part1_nodups = part1.drop_duplicates()\n",
    "part2_nodups = part2.drop_duplicates()\n",
    "\n",
    "#Merge the 2 datasets to create the final datasets.\n",
    "Data=pd.merge(left=part1, right=part2, on=['ID'])"
   ]
  },
  {
   "cell_type": "code",
   "execution_count": null,
   "metadata": {},
   "outputs": [],
   "source": [
    "#preview original dataset1.\n",
    "part1.head()"
   ]
  },
  {
   "cell_type": "code",
   "execution_count": null,
   "metadata": {},
   "outputs": [],
   "source": [
    "#Preview original dataset2.\n",
    "part2.head()"
   ]
  },
  {
   "cell_type": "code",
   "execution_count": null,
   "metadata": {},
   "outputs": [],
   "source": [
    "#Preview your Data\n",
    "Data.head()"
   ]
  },
  {
   "cell_type": "markdown",
   "metadata": {},
   "source": [
    "Data Cleaning "
   ]
  },
  {
   "cell_type": "code",
   "execution_count": null,
   "metadata": {},
   "outputs": [],
   "source": [
    "#Displpay the number of rows and columns of your final dataset \"Data\".\n",
    "Data.shape"
   ]
  },
  {
   "cell_type": "code",
   "execution_count": null,
   "metadata": {},
   "outputs": [],
   "source": [
    "#Check number of values less than zero in the dataframe.\n",
    "(Data<0).sum()"
   ]
  },
  {
   "cell_type": "code",
   "execution_count": null,
   "metadata": {},
   "outputs": [],
   "source": [
    "#Display all the values less than zero from \"CustomerSince\" column.\n",
    "Data[Data['CustomerSince']<0]['CustomerSince']"
   ]
  },
  {
   "cell_type": "code",
   "execution_count": null,
   "metadata": {},
   "outputs": [],
   "source": [
    "#Display the data type of each column. \n",
    "Data.dtypes"
   ]
  },
  {
   "cell_type": "code",
   "execution_count": null,
   "metadata": {},
   "outputs": [],
   "source": [
    "#Check for null balue in the dataframe. \n",
    "Data.isnull().sum()"
   ]
  },
  {
   "cell_type": "code",
   "execution_count": null,
   "metadata": {},
   "outputs": [],
   "source": [
    "#Describe the data after transposing. \n",
    "Data.describe().transpose()"
   ]
  },
  {
   "cell_type": "code",
   "execution_count": null,
   "metadata": {},
   "outputs": [],
   "source": [
    "#Show the distribution of data in LoanOnCard Column. \n",
    "Data['LoanOnCard'].value_counts().plot(kind='bar')"
   ]
  },
  {
   "cell_type": "code",
   "execution_count": null,
   "metadata": {},
   "outputs": [],
   "source": [
    "# every column's missing value is replaced with 0 respectively . In this case LoanOnCard which is our target/outcome variable\n",
    "Data = Data.dropna(axis=0)\n",
    "Data"
   ]
  },
  {
   "cell_type": "code",
   "execution_count": null,
   "metadata": {},
   "outputs": [],
   "source": [
    "# The Customer ID attribute 'ID' does not influence the conversion to potential customers for loanoncard \n",
    "# so dropping the 'ID' attribute\n",
    "# Assuming that the 'Zipcode' (in other words 'area') of the customers does not influence the \n",
    "# conversion to potential customers for loanoncard. So dropping the 'Zipcode' attribute\n",
    "Data = Data.drop('ID', axis =1 ) \n",
    "Data = Data.drop('ZipCode', axis =1 )"
   ]
  },
  {
   "cell_type": "code",
   "execution_count": null,
   "metadata": {},
   "outputs": [],
   "source": [
    "#Display the data now. \n",
    "Data"
   ]
  },
  {
   "cell_type": "markdown",
   "metadata": {},
   "source": [
    "Data analysis and visualization"
   ]
  },
  {
   "cell_type": "code",
   "execution_count": null,
   "metadata": {},
   "outputs": [],
   "source": [
    "plt.figure(figsize=(10,6))\n",
    "plt.subplot(1, 3, 1)\n",
    "plt.title('Age')\n",
    "sns.histplot(Data['Age'],color='c', kde=True)\n",
    "\n",
    "\n",
    "plt.subplot(1, 3, 2)\n",
    "plt.title('CustomerSince')\n",
    "sns.histplot(Data['CustomerSince'],color='m',kde=True)\n",
    "\n",
    "\n",
    "plt.subplot(1, 3, 3)\n",
    "plt.title('FixedDepositAccount')\n",
    "sns.countplot(data = Data, x= 'FixedDepositAccount', palette = \"YlOrBr\")\n",
    "\n",
    "plt.figure(figsize=(10,6))\n",
    "plt.subplot(1, 3, 1)\n",
    "plt.title('CreditCard')\n",
    "sns.countplot(data = Data, x= 'CreditCard', palette = \"crest\")\n",
    "\n",
    "\n",
    "plt.subplot(1, 3, 2)\n",
    "plt.title('Security')\n",
    "sns.countplot(data = Data, x= 'Security',palette = \"rocket_r\")\n",
    "\n",
    "\n",
    "plt.subplot(1, 3, 3)\n",
    "plt.title('InternetBanking')\n",
    "sns.countplot(data = Data, x= 'InternetBanking',palette = \"dark:salmon_r\")\n",
    "\n",
    "\n",
    "plt.show()"
   ]
  },
  {
   "cell_type": "code",
   "execution_count": null,
   "metadata": {},
   "outputs": [],
   "source": [
    "#Display the columns of the Dataframe.\n",
    "Data.columns"
   ]
  },
  {
   "cell_type": "code",
   "execution_count": null,
   "metadata": {},
   "outputs": [],
   "source": [
    "Data.head()"
   ]
  },
  {
   "cell_type": "code",
   "execution_count": null,
   "metadata": {},
   "outputs": [],
   "source": [
    "Data[\"LoanOnCard\"].value_counts(normalize=True)"
   ]
  },
  {
   "cell_type": "markdown",
   "metadata": {},
   "source": [
    "DataPreparation for Modeling"
   ]
  }
 ],
 "metadata": {
  "kernelspec": {
   "display_name": "venv",
   "language": "python",
   "name": "python3"
  },
  "language_info": {
   "codemirror_mode": {
    "name": "ipython",
    "version": 3
   },
   "file_extension": ".py",
   "mimetype": "text/x-python",
   "name": "python",
   "nbconvert_exporter": "python",
   "pygments_lexer": "ipython3",
   "version": "3.12.7"
  }
 },
 "nbformat": 4,
 "nbformat_minor": 2
}
